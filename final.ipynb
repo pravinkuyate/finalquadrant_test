{
 "cells": [
  {
   "cell_type": "code",
   "execution_count": 13,
   "metadata": {},
   "outputs": [],
   "source": [
    "import pandas as pd\n",
    "import re"
   ]
  },
  {
   "cell_type": "code",
   "execution_count": 14,
   "metadata": {},
   "outputs": [],
   "source": [
    "messages_df = pd.read_csv('messages.csv')\n",
    "\n",
    "\n",
    "keywords_df = pd.read_csv('keywords.csv')"
   ]
  },
  {
   "cell_type": "code",
   "execution_count": 15,
   "metadata": {},
   "outputs": [
    {
     "data": {
      "text/plain": [
       "Index(['basement'], dtype='object')"
      ]
     },
     "execution_count": 15,
     "metadata": {},
     "output_type": "execute_result"
    }
   ],
   "source": [
    "keywords_df.columns"
   ]
  },
  {
   "cell_type": "code",
   "execution_count": 16,
   "metadata": {},
   "outputs": [
    {
     "name": "stdout",
     "output_type": "stream",
     "text": [
      "Index(['1 desk'], dtype='object')\n"
     ]
    }
   ],
   "source": [
    "print(messages_df.columns)"
   ]
  },
  {
   "cell_type": "code",
   "execution_count": 17,
   "metadata": {},
   "outputs": [],
   "source": [
    "messages = messages_df.iloc[:,0]\n",
    "\n",
    "keywords = keywords_df.iloc[:,0]\n"
   ]
  },
  {
   "cell_type": "code",
   "execution_count": 18,
   "metadata": {},
   "outputs": [
    {
     "name": "stdout",
     "output_type": "stream",
     "text": [
      "Rank 1 - Keyword: stairs\n",
      "Rank 1 - Frequency: 130\n",
      "Rank 2 - Keyword: delivery\n",
      "Rank 2 - Frequency: 102\n",
      "Rank 3 - Keyword: garden\n",
      "Rank 3 - Frequency: 51\n",
      "Rank 4 - Keyword: storage\n",
      "Rank 4 - Frequency: 49\n",
      "Rank 5 - Keyword: garage\n",
      "Rank 5 - Frequency: 40\n",
      "Rank 6 - Keyword: bungalow\n",
      "Rank 6 - Frequency: 30\n",
      "Rank 7 - Keyword: front door\n",
      "Rank 7 - Frequency: 29\n",
      "Rank 8 - Keyword: level\n",
      "Rank 8 - Frequency: 25\n",
      "Rank 9 - Keyword: home\n",
      "Rank 9 - Frequency: 22\n",
      "Rank 10 - Keyword: pickup\n",
      "Rank 10 - Frequency: 17\n",
      "Rank 11 - Keyword: street level\n",
      "Rank 11 - Frequency: 8\n",
      "Rank 12 - Keyword: pavement\n",
      "Rank 12 - Frequency: 3\n",
      "Rank 13 - Keyword: right now\n",
      "Rank 13 - Frequency: 3\n",
      "Rank 14 - Keyword: downstair\n",
      "Rank 14 - Frequency: 0\n"
     ]
    }
   ],
   "source": [
    "keyword_freq = {keyword: 0 for keyword in keywords}\n",
    "\n",
    "\n",
    "for message in messages:\n",
    "    \n",
    "    for keyword in keyword_freq:\n",
    "        if re.search(r'\\b' + re.escape(keyword) + r'\\b', message, re.IGNORECASE):\n",
    "            keyword_freq[keyword] += 1\n",
    "\n",
    "\n",
    "keyword_freq_df = pd.DataFrame(list(keyword_freq.items()), columns=['Keyword', 'Frequency'])\n",
    "\n",
    "\n",
    "keyword_freq_df = keyword_freq_df.sort_values(by='Frequency', ascending=False)\n",
    "\n",
    "\n",
    "for i, (index, row) in enumerate(keyword_freq_df.iterrows()):\n",
    "    rank = i + 1\n",
    "    keyword = row['Keyword']\n",
    "    frequency = row['Frequency']\n",
    "    print(f\"Rank {rank} - Keyword: {keyword}\")\n",
    "    print(f\"Rank {rank} - Frequency: {frequency}\")"
   ]
  },
  {
   "cell_type": "code",
   "execution_count": null,
   "metadata": {},
   "outputs": [],
   "source": []
  },
  {
   "cell_type": "code",
   "execution_count": null,
   "metadata": {},
   "outputs": [],
   "source": []
  }
 ],
 "metadata": {
  "kernelspec": {
   "display_name": "base",
   "language": "python",
   "name": "python3"
  },
  "language_info": {
   "codemirror_mode": {
    "name": "ipython",
    "version": 3
   },
   "file_extension": ".py",
   "mimetype": "text/x-python",
   "name": "python",
   "nbconvert_exporter": "python",
   "pygments_lexer": "ipython3",
   "version": "3.9.18"
  }
 },
 "nbformat": 4,
 "nbformat_minor": 2
}
